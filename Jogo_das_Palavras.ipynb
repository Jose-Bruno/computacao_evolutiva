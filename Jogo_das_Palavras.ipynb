{
  "nbformat": 4,
  "nbformat_minor": 0,
  "metadata": {
    "colab": {
      "provenance": [],
      "include_colab_link": true
    },
    "kernelspec": {
      "name": "python3",
      "display_name": "Python 3"
    },
    "language_info": {
      "name": "python"
    }
  },
  "cells": [
    {
      "cell_type": "markdown",
      "metadata": {
        "id": "view-in-github",
        "colab_type": "text"
      },
      "source": [
        "<a href=\"https://colab.research.google.com/github/Jose-Bruno/computacao_evolutiva/blob/main/Jogo_das_Palavras.ipynb\" target=\"_parent\"><img src=\"https://colab.research.google.com/assets/colab-badge.svg\" alt=\"Open In Colab\"/></a>"
      ]
    },
    {
      "cell_type": "code",
      "execution_count": 14,
      "metadata": {
        "id": "Ldn102kTAPfh"
      },
      "outputs": [],
      "source": [
        "import random\n",
        "import string"
      ]
    },
    {
      "cell_type": "code",
      "source": [
        "# Solicitar a palavra-alvo ao usuário\n",
        "target = input(\"Digite a palavra-alvo: \")"
      ],
      "metadata": {
        "colab": {
          "base_uri": "https://localhost:8080/"
        },
        "id": "FFxh-FRcAkRY",
        "outputId": "ff785f2c-81cd-42fe-ad07-6bf36aaa902a"
      },
      "execution_count": 15,
      "outputs": [
        {
          "name": "stdout",
          "output_type": "stream",
          "text": [
            "Digite a palavra-alvo: Bruno\n"
          ]
        }
      ]
    },
    {
      "cell_type": "code",
      "source": [
        "# Tamanho da população\n",
        "population_size = 100"
      ],
      "metadata": {
        "id": "LK9X0RhZAqF7"
      },
      "execution_count": 16,
      "outputs": []
    },
    {
      "cell_type": "markdown",
      "source": [
        "# Taxa de Mutação\n",
        "É ajustada dinamicamente ao longo das gerações, diminuindo gradualmente de sua taxa inicial para a final. Isso é calculado usando uma fórmula que leva em conta o número da geração atual e um parâmetro que define quão rápido essa adaptação deve acontecer:"
      ],
      "metadata": {
        "id": "ReXPUFUcGYCD"
      }
    },
    {
      "cell_type": "code",
      "source": [
        "# Taxa de mutação inicial e final\n",
        "initial_mutation_rate = 0.1\n",
        "final_mutation_rate = 0.01"
      ],
      "metadata": {
        "id": "vGa4qvyWAtRU"
      },
      "execution_count": 17,
      "outputs": []
    },
    {
      "cell_type": "markdown",
      "source": [
        "# Codificação Genética\n",
        "A codificação genética neste algoritmo é direta e baseada em caracteres. Cada indivíduo na população é uma string de caracteres com o mesmo comprimento da palavra-alvo fornecida pelo usuário. O conjunto de caracteres permitidos inclui letras (maiúsculas e minúsculas), acentuações e hífen:"
      ],
      "metadata": {
        "id": "-pZOMhHVB73l"
      }
    },
    {
      "cell_type": "code",
      "source": [
        "# Conjunto de caracteres incluindo acentuação, hífen\n",
        "all_chars = string.ascii_letters + 'áàâãéêíóôõúçÁÀÂÃÉÊÍÓÔÕÚÇ-'"
      ],
      "metadata": {
        "id": "ePfL6NgOAuJ6"
      },
      "execution_count": 18,
      "outputs": []
    },
    {
      "cell_type": "code",
      "source": [
        "# Função para criar uma palavra aleatória\n",
        "def create_word(length):\n",
        "    return ''.join(random.choices(all_chars, k=length))"
      ],
      "metadata": {
        "id": "szAAhyo_A1YP"
      },
      "execution_count": 19,
      "outputs": []
    },
    {
      "cell_type": "markdown",
      "source": [
        "# Cálculo da Função Fitness\n",
        "A função fitness calcula o quão próximo um indivíduo está da palavra-alvo, contando o número de caracteres corretos na posição correta:"
      ],
      "metadata": {
        "id": "M9ovscg9DAMl"
      }
    },
    {
      "cell_type": "code",
      "source": [
        "# Função para calcular o fitness\n",
        "def calculate_fitness(word, target):\n",
        "    return sum(1 for a, b in zip(word, target) if a == b)"
      ],
      "metadata": {
        "id": "0inCUp5_A4Q_"
      },
      "execution_count": 20,
      "outputs": []
    },
    {
      "cell_type": "markdown",
      "source": [
        "# Seleção dos Pais\n",
        "A seleção dos pais é feita pelo método de torneio, onde um grupo aleatório de indivíduos é escolhido, e o melhor indivíduo deste grupo é selecionado como pai. Este processo é repetido até que o número necessário de pais seja selecionado:"
      ],
      "metadata": {
        "id": "0EJ8H4euDmhR"
      }
    },
    {
      "cell_type": "code",
      "source": [
        "# Função para seleção dos pais por torneio\n",
        "def tournament_selection(population, fitnesses, tournament_size=5):\n",
        "    selected_parents = []\n",
        "    for _ in range(len(population)):\n",
        "        tournament = random.sample(list(zip(population, fitnesses)), tournament_size)\n",
        "        selected_parents.append(max(tournament, key=lambda x: x[1])[0])\n",
        "    return selected_parents"
      ],
      "metadata": {
        "id": "QAB9BoguA6Co"
      },
      "execution_count": 21,
      "outputs": []
    },
    {
      "cell_type": "markdown",
      "source": [
        "# Cruzamento\n",
        "O cruzamento é realizado selecionando um ponto aleatório nos pais e combinando a parte inicial do primeiro pai com a parte final do segundo pai"
      ],
      "metadata": {
        "id": "DxY2ol-BEcEt"
      }
    },
    {
      "cell_type": "code",
      "source": [
        "# Função para cruzamento (crossover)\n",
        "def crossover(parent1, parent2):\n",
        "    crossover_point = random.randint(0, len(parent1) - 1)\n",
        "    child = parent1[:crossover_point] + parent2[crossover_point:]\n",
        "    return child"
      ],
      "metadata": {
        "id": "Zb1Z12UVA9BE"
      },
      "execution_count": 22,
      "outputs": []
    },
    {
      "cell_type": "markdown",
      "source": [
        "# Mutação\n",
        "A mutação é feita com uma taxa que diminui ao longo das gerações. Cada caráter do indivíduo tem uma chance de ser substituído por um caractere aleatório do conjunto permitido:"
      ],
      "metadata": {
        "id": "z5MkgefWEzK8"
      }
    },
    {
      "cell_type": "code",
      "source": [
        "# Função para mutação adaptativa\n",
        "def mutate(word, mutation_rate):\n",
        "    word = list(word)\n",
        "    for i in range(len(word)):\n",
        "        if random.random() < mutation_rate:\n",
        "            word[i] = random.choice(all_chars)\n",
        "    return ''.join(word)"
      ],
      "metadata": {
        "id": "mjM52u-tBBcM"
      },
      "execution_count": 23,
      "outputs": []
    },
    {
      "cell_type": "markdown",
      "source": [
        "# População Inicial\n",
        "\n",
        "A população inicial é criada gerando um número fixo de indivíduos (definido por population_size) com palavras aleatórias. Cada palavra tem o mesmo comprimento que a palavra-alvo:"
      ],
      "metadata": {
        "id": "kc9Zva35CY-r"
      }
    },
    {
      "cell_type": "code",
      "source": [
        "# Inicializa a população com palavras aleatórias\n",
        "population = [create_word(len(target)) for _ in range(population_size)]"
      ],
      "metadata": {
        "id": "zbzJbpPEBEna"
      },
      "execution_count": 24,
      "outputs": []
    },
    {
      "cell_type": "code",
      "source": [
        "# Algoritmo genético sem critério de parada definido\n",
        "generation = 0\n",
        "current_mutation_rate = initial_mutation_rate"
      ],
      "metadata": {
        "id": "PAPYqT3qBH7r"
      },
      "execution_count": 25,
      "outputs": []
    },
    {
      "cell_type": "markdown",
      "source": [
        "# Elitismo\n",
        "Para garantir que os melhores indivíduos sobrevivam de uma geração para outra, uma porção da população (10%) com os melhores valores de fitness é diretamente copiada para a próxima geração:\n",
        "\n",
        "\n",
        "```\n",
        "elite_count = int(population_size * 0.1)  # 10% de elitismo\n",
        "elite_indices = sorted(range(len(fitnesses)), key=lambda k: fitnesses[k], reverse=True)[:elite_count]\n",
        "elite_population = [population[idx] for idx in elite_indices]\n",
        "new_population.extend(elite_population)\n",
        "```\n",
        "\n"
      ],
      "metadata": {
        "id": "_FwAfTb1E9JK"
      }
    },
    {
      "cell_type": "markdown",
      "source": [
        "# Loop Principal do Algoritmo Genético\n",
        "O algoritmo continua gerando novas populações, ajustando a taxa de mutação e exibindo a melhor palavra até o momento até que a palavra-alvo seja encontrada:"
      ],
      "metadata": {
        "id": "dNRikaPlFkGE"
      }
    },
    {
      "cell_type": "code",
      "source": [
        "while True:\n",
        "    # Calcula o fitness de cada palavra na população\n",
        "    fitnesses = [calculate_fitness(word, target) for word in population]\n",
        "\n",
        "    # Verifica se a palavra-alvo foi encontrada\n",
        "    if target in population:\n",
        "        print(f\"Palavra encontrada na geração {generation}: {target}\")\n",
        "        break\n",
        "\n",
        "    # Seleciona os pais por torneio e gera a nova população\n",
        "    new_population = []\n",
        "    elite_count = int(population_size * 0.1)  # 10% de elitismo\n",
        "\n",
        "    # Elitismo: mantém os melhores indivíduos na nova população\n",
        "    elite_indices = sorted(range(len(fitnesses)), key=lambda k: fitnesses[k], reverse=True)[:elite_count]\n",
        "    elite_population = [population[idx] for idx in elite_indices]\n",
        "    new_population.extend(elite_population)\n",
        "\n",
        "    for _ in range(population_size - elite_count):\n",
        "        parent1 = tournament_selection(population, fitnesses)[0]\n",
        "        parent2 = tournament_selection(population, fitnesses)[0]\n",
        "        child = crossover(parent1, parent2)\n",
        "        child = mutate(child, current_mutation_rate)\n",
        "        new_population.append(child)\n",
        "\n",
        "    population = new_population\n",
        "    generation += 1\n",
        "\n",
        "    # Adaptação da taxa de mutação ao longo das gerações\n",
        "    current_mutation_rate = initial_mutation_rate + (final_mutation_rate - initial_mutation_rate) * (generation / 1000)\n",
        "\n",
        "    # Exibe o passo atual e a melhor palavra gerada até agora\n",
        "    best_word = max(population, key=lambda word: calculate_fitness(word, target))\n",
        "    print(f\"Geração {generation}: Melhor palavra até agora: {best_word}\")\n"
      ],
      "metadata": {
        "colab": {
          "base_uri": "https://localhost:8080/"
        },
        "id": "sB9A4AvABIsZ",
        "outputId": "e5701bd2-6d93-4249-cc4e-c27bdfdf225c"
      },
      "execution_count": 26,
      "outputs": [
        {
          "output_type": "stream",
          "name": "stdout",
          "text": [
            "Geração 1: Melhor palavra até agora: jAuZo\n",
            "Geração 2: Melhor palavra até agora: BrUÕo\n",
            "Geração 3: Melhor palavra até agora: BrUno\n",
            "Geração 4: Melhor palavra até agora: BrUno\n",
            "Geração 5: Melhor palavra até agora: BrUno\n",
            "Geração 6: Melhor palavra até agora: BrUno\n",
            "Geração 7: Melhor palavra até agora: BrUno\n",
            "Geração 8: Melhor palavra até agora: Bruno\n",
            "Palavra encontrada na geração 8: Bruno\n"
          ]
        }
      ]
    }
  ]
}